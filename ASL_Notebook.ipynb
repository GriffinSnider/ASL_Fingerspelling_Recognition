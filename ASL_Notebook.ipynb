{
 "cells": [
  {
   "cell_type": "code",
   "execution_count": 70,
   "id": "df2bf3c2-9b55-48e2-8bf9-e452b90019cd",
   "metadata": {},
   "outputs": [],
   "source": [
    "import glob\n",
    "import os"
   ]
  },
  {
   "cell_type": "code",
   "execution_count": 72,
   "id": "b50b59a9-88c7-443f-8ee5-6006d2e2499b",
   "metadata": {},
   "outputs": [],
   "source": [
    "dataset_path = \"./asl_alphabet_data\""
   ]
  },
  {
   "cell_type": "code",
   "execution_count": 128,
   "id": "67164e7d-216f-4841-a3df-98f703922b65",
   "metadata": {},
   "outputs": [
    {
     "name": "stdout",
     "output_type": "stream",
     "text": [
      "Total Dataset Classes: 27\n",
      "\n",
      "Dataset Classes:\n",
      "A | B | C | D | E | F | G | H | I\n",
      "J | K | L | M | N | O | P | Q | R\n",
      "S | T | U | V | W | X | Y | Z | nothing\n"
     ]
    }
   ],
   "source": [
    "#grabs all the folder names in the dataset and sorts them\n",
    "all_classes = sorted([os.path.basename(folder) for folder in glob.glob(os.path.join(dataset_path, \"*\"))])\n",
    "\n",
    "def print_classes(title, class_list, rows, cols):\n",
    "    print(f\"{title}: {len(class_list)}\")\n",
    "    print(\"\\nDataset Classes:\")\n",
    "    index = 0\n",
    "    for row in range(rows):\n",
    "        row_classes = []\n",
    "        for col in range(cols):\n",
    "            row_classes.append(class_list[index])\n",
    "            index += 1\n",
    "        print(\" | \".join(row_classes))\n",
    "\n",
    "print_classes(\"Total Dataset Classes\", all_classes, 3, 9)"
   ]
  },
  {
   "cell_type": "markdown",
   "id": "d5c8ef95-ae6a-4acd-bd02-93c2b2320ee8",
   "metadata": {},
   "source": [
    "---\n",
    "###Selected Letters \n",
    "\n",
    "I'm picking a smaller set of ASL letters to make the dataset easier to work with and keep things running smoothly on my computer. Some letters, like \"J\" and \"Z,\" need movement to sign, so they don’t work as well with static images."
   ]
  },
  {
   "cell_type": "code",
   "execution_count": 131,
   "id": "38063e25-84b4-43be-922c-ab274a5f8278",
   "metadata": {},
   "outputs": [
    {
     "name": "stdout",
     "output_type": "stream",
     "text": [
      "Selected ASL Letters: 18\n",
      "\n",
      "Dataset Classes:\n",
      "A | B | C | D | E | F | H | I | L\n",
      "O | Q | R | S | U | V | W | X | Y\n"
     ]
    }
   ],
   "source": [
    "#list of ASL letters we selected for this project\n",
    "asl_keep = [\"A\", \"B\", \"C\", \"D\", \"E\", \"F\", \"H\", \"I\", \"L\", \"O\", \"Q\", \"R\", \"S\", \"U\", \"V\", \"W\", \"X\", \"Y\"]\n",
    "\n",
    "print_classes(\"Selected ASL Letters\", asl_keep, 2, 9)"
   ]
  },
  {
   "cell_type": "code",
   "execution_count": null,
   "id": "7526452a-1754-410e-ba3b-ffc90a6fa0e7",
   "metadata": {},
   "outputs": [],
   "source": []
  }
 ],
 "metadata": {
  "kernelspec": {
   "display_name": "Python [conda env:base] *",
   "language": "python",
   "name": "conda-base-py"
  },
  "language_info": {
   "codemirror_mode": {
    "name": "ipython",
    "version": 3
   },
   "file_extension": ".py",
   "mimetype": "text/x-python",
   "name": "python",
   "nbconvert_exporter": "python",
   "pygments_lexer": "ipython3",
   "version": "3.12.7"
  }
 },
 "nbformat": 4,
 "nbformat_minor": 5
}
