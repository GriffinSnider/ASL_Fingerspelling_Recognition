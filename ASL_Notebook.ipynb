{
 "cells": [
  {
   "cell_type": "markdown",
   "id": "fba56ba3-ee37-4608-ac3e-7d7aef1e3845",
   "metadata": {},
   "source": [
    "##Recognizing ASL Fingerspelling Using Machine Learning\n",
    "####Dataset Name: ASL Alphabet\n",
    "####[Kaggle Data Soruce](https://www.kaggle.com/datasets/grassknoted/asl-alphabet)\n",
    "####Goal: Develop a machine learning model to recognize ASL fingerspelling from images.\n",
    "\n",
    "####Dataset Overview:\n",
    "- American Sign Language alphabet dataset from Kaggle\n",
    "- Contains 87,000 training images across 29 classes\n",
    "- 26 classes represent letters A-Z and 3 additional classes\n",
    "\n",
    "###Dataset Characteristics:\n",
    "- Images show hand gestures against backgrounds\n",
    "- Images 200x200 pixels\n",
    "- Each image shows static hand position corresponding to a letter\n",
    "\n",
    "###Class Selection:\n",
    "- Despite having 29 classes in the full dataset, our analysis focuses on 18 letters\n",
    "\n",
    "###The Objective\n",
    "- To accurately classify ASL alphabet images into their respective letter classes"
   ]
  },
  {
   "cell_type": "code",
   "execution_count": 282,
   "id": "df2bf3c2-9b55-48e2-8bf9-e452b90019cd",
   "metadata": {},
   "outputs": [],
   "source": [
    "import glob\n",
    "import os\n",
    "import pandas as pd"
   ]
  },
  {
   "cell_type": "code",
   "execution_count": 284,
   "id": "b50b59a9-88c7-443f-8ee5-6006d2e2499b",
   "metadata": {},
   "outputs": [],
   "source": [
    "dataset_path = \"./asl_alphabet_data\""
   ]
  },
  {
   "cell_type": "code",
   "execution_count": 286,
   "id": "67164e7d-216f-4841-a3df-98f703922b65",
   "metadata": {},
   "outputs": [
    {
     "name": "stdout",
     "output_type": "stream",
     "text": [
      "Total Dataset Classes: 27\n",
      "\n",
      "Dataset Classes:\n",
      "A | B | C | D | E | F | G | H | I\n",
      "J | K | L | M | N | O | P | Q | R\n",
      "S | T | U | V | W | X | Y | Z | nothing\n"
     ]
    }
   ],
   "source": [
    "#grabs all the folder names in the dataset and sorts them\n",
    "all_classes = sorted([os.path.basename(folder) for folder in glob.glob(os.path.join(dataset_path, \"*\"))])\n",
    "\n",
    "def print_classes(title, class_list, rows, cols):\n",
    "    #prints the title along with the number of items in the class list\n",
    "    print(f\"{title}: {len(class_list)}\")\n",
    "    #prints a header for the dataset classes\n",
    "    print(\"\\nDataset Classes:\")\n",
    "    index = 0 #keep track of the current position\n",
    "    for row in range(rows):\n",
    "        row_classes = [] #stores the items for the current row\n",
    "        for col in range(cols):\n",
    "            row_classes.append(class_list[index]) #adds the class name to the row list\n",
    "            index += 1 #moves to the next class in the list\n",
    "        print(\" | \".join(row_classes)) #prints the row\n",
    "\n",
    "#calls print_class function\n",
    "print_classes(\"Total Dataset Classes\", all_classes, 3, 9)"
   ]
  },
  {
   "cell_type": "markdown",
   "id": "d5c8ef95-ae6a-4acd-bd02-93c2b2320ee8",
   "metadata": {},
   "source": [
    "---\n",
    "###Selected Letters \n",
    "\n",
    "I'm picking a smaller set of ASL letters to make the dataset easier to work with and keep things running smoothly on my computer. Some letters, like \"J\" and \"Z,\" need movement to sign, so they don’t work as well with static images."
   ]
  },
  {
   "cell_type": "code",
   "execution_count": 289,
   "id": "38063e25-84b4-43be-922c-ab274a5f8278",
   "metadata": {},
   "outputs": [
    {
     "name": "stdout",
     "output_type": "stream",
     "text": [
      "Selected ASL Letters: 18\n",
      "\n",
      "Dataset Classes:\n",
      "A | B | C | D | E | F | H | I | L\n",
      "O | Q | R | S | U | V | W | X | Y\n"
     ]
    }
   ],
   "source": [
    "#list of ASL letters we selected for this project\n",
    "asl_keep = [\"A\", \"B\", \"C\", \"D\", \"E\", \"F\", \"H\", \"I\", \"L\", \"O\", \"Q\", \"R\", \"S\", \"U\", \"V\", \"W\", \"X\", \"Y\"]\n",
    "\n",
    "#calls print_class function\n",
    "print_classes(\"Selected ASL Letters\", asl_keep, 2, 9)"
   ]
  },
  {
   "cell_type": "code",
   "execution_count": 291,
   "id": "7526452a-1754-410e-ba3b-ffc90a6fa0e7",
   "metadata": {},
   "outputs": [
    {
     "name": "stdout",
     "output_type": "stream",
     "text": [
      "\n",
      "Total images loaded: 9000\n",
      "\n",
      "Images per class:\n",
      "--------------------\n",
      "Letter A:  500 images\n",
      "Letter B:  500 images\n",
      "Letter C:  500 images\n",
      "Letter D:  500 images\n",
      "Letter E:  500 images\n",
      "Letter F:  500 images\n",
      "Letter H:  500 images\n",
      "Letter I:  500 images\n",
      "Letter L:  500 images\n",
      "Letter O:  500 images\n",
      "Letter Q:  500 images\n",
      "Letter R:  500 images\n",
      "Letter S:  500 images\n",
      "Letter U:  500 images\n",
      "Letter V:  500 images\n",
      "Letter W:  500 images\n",
      "Letter X:  500 images\n",
      "Letter Y:  500 images\n",
      "--------------------\n"
     ]
    }
   ],
   "source": [
    "#list to store image file paths for selected asl letters\n",
    "asl_paths_train = []\n",
    "\n",
    "for letter in asl_keep:\n",
    "    #creates the full path to the letters folder\n",
    "    letter_path = os.path.join(dataset_path, letter)\n",
    "    #grabs all jpg images inside the letters folders\n",
    "    letter_images = glob.glob(os.path.join(letter_path, \"*.jpg\"))\n",
    "    #adds up to 500 images from this letter to the training list\n",
    "    asl_paths_train.extend(letter_images[:500])\n",
    "\n",
    "#extracts the letter label from each image\n",
    "asl_labels_train = [os.path.basename(os.path.dirname(img)) for img in asl_paths_train]\n",
    "\n",
    "#creates a df with the image paths and their labels\n",
    "train_asl_df = pd.DataFrame({\"image_path\": asl_paths_train, \"letter_label\": asl_labels_train})\n",
    "\n",
    "#prints total number of images added to the dataset\n",
    "print(f\"\\nTotal images loaded: {len(train_asl_df)}\")\n",
    "#counts how many images belong to each letter\n",
    "class_distribution = train_asl_df['letter_label'].value_counts()\n",
    "#sort alphabetically instead of by count\n",
    "class_distribution = class_distribution.sort_index()\n",
    "\n",
    "#prints a breakdwon of how many images there are per class\n",
    "print(\"\\nImages per class:\")\n",
    "print(\"-\" * 20)\n",
    "for letter, count in class_distribution.items():\n",
    "    print(f\"Letter {letter}: {count:4d} images\")\n",
    "print(\"-\" * 20)"
   ]
  },
  {
   "cell_type": "code",
   "execution_count": null,
   "id": "4a26ff2c-5122-40a4-b7b4-5addb2baec0e",
   "metadata": {},
   "outputs": [],
   "source": []
  }
 ],
 "metadata": {
  "kernelspec": {
   "display_name": "Python [conda env:base] *",
   "language": "python",
   "name": "conda-base-py"
  },
  "language_info": {
   "codemirror_mode": {
    "name": "ipython",
    "version": 3
   },
   "file_extension": ".py",
   "mimetype": "text/x-python",
   "name": "python",
   "nbconvert_exporter": "python",
   "pygments_lexer": "ipython3",
   "version": "3.12.7"
  }
 },
 "nbformat": 4,
 "nbformat_minor": 5
}
